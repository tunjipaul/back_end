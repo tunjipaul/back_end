{
 "cells": [
  {
   "cell_type": "markdown",
   "id": "0a2c8107",
   "metadata": {},
   "source": [
    "### **Python Typing** "
   ]
  },
  {
   "cell_type": "markdown",
   "id": "3e058a9f",
   "metadata": {},
   "source": [
    "Typing deals with data types like int, float, bool, str -these are the basic or primitive types.\n",
    "and also data structures like liast, tuple, dict, set - these are te collection types.\n",
    "\n",
    "\n",
    "Now, typing is a system that lets you explicitly state what types( or combination of types) youe variables, function arguments and return values should be.\n",
    "\n",
    "But you need to know that typing extends a bit more. it is more about describing the shape if your data and how it flows through your program."
   ]
  },
  {
   "cell_type": "code",
   "execution_count": 158,
   "id": "a0265249",
   "metadata": {},
   "outputs": [],
   "source": [
    "# example\n",
    "\n",
    "def get_fellows_names(fellow: list[str]) -> list[str]:\n",
    "    return fellow"
   ]
  },
  {
   "cell_type": "markdown",
   "id": "fdabd571",
   "metadata": {},
   "source": [
    "`(fellow: list[str])` - type of input the function should accept.\n",
    "\n",
    "`-> list[str]` - type of output you should expect."
   ]
  },
  {
   "cell_type": "markdown",
   "id": "a810c0f1",
   "metadata": {},
   "source": [
    "The function is saying that fellow must be a list, not just any list by a list of strings.\n",
    "\n",
    "Here, we would understand that  typing helps to add precision and intent. You are not just saying  that this is a list - you are saying, this is a list of students names.\n",
    "\n",
    "Think of data types as ingredients(e.g, int, str, list)\n",
    "and typing as the recipe - it tells us how those ingredients should fit togeter and flow through our program. \n",
    "\n",
    "So in summary, typing is about using data types and data structure to define rules nad expectations for our program."
   ]
  },
  {
   "cell_type": "markdown",
   "id": "03ef2508",
   "metadata": {},
   "source": [
    "`names: list[str] = [\"Esther\", \"Peter\", \"David\"]`\n",
    "- Meaning that every value in the list should be strings\n",
    "\n",
    "so the function will not accept this\n",
    "\n",
    "`names = [\"Esther\", 22, True]`\n",
    "The reasom is because it mixes different types(str, int, bool)\n",
    "\n"
   ]
  },
  {
   "cell_type": "code",
   "execution_count": 159,
   "id": "c1c1d26e",
   "metadata": {},
   "outputs": [],
   "source": [
    "def get_average(name: str, scores: list[float]) -> float:\n",
    "    average_score = sum(scores)/len(scores)\n",
    "    print(f\"{name}'s average score is {average_score}\")\n",
    "    return average_score    "
   ]
  },
  {
   "cell_type": "markdown",
   "id": "5e1517e5",
   "metadata": {},
   "source": [
    "`name: str` - The parameter `name` must be a string\n",
    "\n",
    "`scores: list[int]` - The argument `scores` must be a list containing integers.\n",
    "\n",
    "-> float - The function must return a floating point number\n"
   ]
  },
  {
   "cell_type": "code",
   "execution_count": 160,
   "id": "18db4906",
   "metadata": {},
   "outputs": [],
   "source": [
    "def greet(name: str) -> None:\n",
    "    print(f\"Hello, {name}\")"
   ]
  },
  {
   "cell_type": "markdown",
   "id": "404daf55",
   "metadata": {},
   "source": [
    "This function `prints` something, but it doesn’t return anything with a return statement.\n",
    "So its “return type” is `None`."
   ]
  },
  {
   "cell_type": "markdown",
   "id": "a1d7fe1e",
   "metadata": {},
   "source": [
    "In Python, when a function has no `return` statement, or when it ends without returning a value,\n",
    "Python automatically returns `None` under the hood."
   ]
  },
  {
   "cell_type": "code",
   "execution_count": 161,
   "id": "4509b9c9",
   "metadata": {},
   "outputs": [],
   "source": [
    "def add(a: int, b: int) -> int:\n",
    "    return a + b"
   ]
  },
  {
   "cell_type": "code",
   "execution_count": null,
   "id": "92573a12",
   "metadata": {},
   "outputs": [],
   "source": []
  },
  {
   "cell_type": "code",
   "execution_count": 162,
   "id": "917b53b2",
   "metadata": {},
   "outputs": [
    {
     "data": {
      "text/plain": [
       "3.8"
      ]
     },
     "execution_count": 162,
     "metadata": {},
     "output_type": "execute_result"
    }
   ],
   "source": [
    "add(1.0, 2.8)"
   ]
  },
  {
   "cell_type": "markdown",
   "id": "b222ceff",
   "metadata": {},
   "source": [
    "**Typing module**"
   ]
  },
  {
   "cell_type": "markdown",
   "id": "3a641c94",
   "metadata": {},
   "source": [
    "The typing module is part of Python’s standard library.\n",
    "\n",
    "It provides tools called **type hints** that let you describe what _kind of data_ your variables, functions, and classes work with especially when things get more complicated."
   ]
  },
  {
   "cell_type": "markdown",
   "id": "c4275604",
   "metadata": {},
   "source": [
    "**How to use typing**"
   ]
  },
  {
   "cell_type": "code",
   "execution_count": 163,
   "id": "81b03635",
   "metadata": {},
   "outputs": [],
   "source": [
    "from typing import List, Dict, Union, Optional\n"
   ]
  },
  {
   "cell_type": "markdown",
   "id": "e9f9373b",
   "metadata": {},
   "source": [
    "You don’t need it for basic types like`int`, `float`, `str`, `list`,\n",
    "but you do need it when types start combining, nesting, or being flexible."
   ]
  },
  {
   "cell_type": "markdown",
   "id": "a1a94473",
   "metadata": {},
   "source": [
    "**Why it Exists**"
   ]
  },
  {
   "cell_type": "markdown",
   "id": "090028ea",
   "metadata": {},
   "source": [
    "Lets say you want to describe\n",
    "- a list that contains strings or integers\n",
    "- a dictionary where keys are strings and values are floats.\n",
    "- a function that sometimes returns a number, sometimes returns nothing.\n",
    "All of these can't be described clearly with basic hints alone. This is where the  **typing** module comes in. It gives you richer language for describing data."
   ]
  },
  {
   "cell_type": "markdown",
   "id": "f6bc5f1d",
   "metadata": {},
   "source": [
    "**Common Tools From Typing**"
   ]
  },
  {
   "cell_type": "markdown",
   "id": "9cb04912",
   "metadata": {},
   "source": [
    "| Typing tool        | Used for                                          | Example                                      |\n",
    "| ------------------ | ------------------------------------------------- | -------------------------------------------- |\n",
    "| `List[T]`          | A list containing elements of type `T`            | `List[int]`, `List[str]`                     |\n",
    "| `Dict[K, V]`       | A dictionary with key type `K` and value type `V` | `Dict[str, int]`                             |\n",
    "| `Union[T1, T2]`    | A value that can be **either** type               | `Union[int, str]`                            |\n",
    "| `Optional[T]`      | A value that can be `T` **or** `None`             | `Optional[int]` (same as `Union[int, None]`) |\n",
    "| `Tuple[T1, T2, …]` | A fixed-length tuple of specified types           | `Tuple[str, int]`                            |\n",
    "| `Any`              | Anything (use when type can’t be known)           | `Any`                                        |\n"
   ]
  },
  {
   "cell_type": "code",
   "execution_count": 164,
   "id": "dba6f258",
   "metadata": {},
   "outputs": [],
   "source": [
    "# lets try out an example\n",
    "\n",
    "from typing import List, Dict, Union, Optional\n",
    "\n",
    "def process_scores(\n",
    "    scores: List[int],\n",
    "    info: Dict[str,Union[int,float]],\n",
    "    comment: Optional[str] = None)-> None:\n",
    "     print(\"Scores:\",scores)\n",
    "     print(\"Info:\",info)\n",
    "     if comment:\n",
    "         print(\"Comment:\", comment)"
   ]
  },
  {
   "cell_type": "markdown",
   "id": "6752f08b",
   "metadata": {},
   "source": [
    "This tells python that;\n",
    "- `scores` - is a list of integers\n",
    "- `info` - is a dictionary with string keys and values that can be `int` or `str`\n",
    "- `comment` is a string or `None`\n",
    "- `-> None` doesn't return anything"
   ]
  },
  {
   "cell_type": "markdown",
   "id": "208f5c7d",
   "metadata": {},
   "source": [
    "**Union**"
   ]
  },
  {
   "cell_type": "markdown",
   "id": "41137603",
   "metadata": {},
   "source": [
    "Union is used when a variable or argument can hold more than one possible type. \n",
    "Lets say you have a funtion that accepts either an integer or a string as an ID"
   ]
  },
  {
   "cell_type": "code",
   "execution_count": 165,
   "id": "6abc0383",
   "metadata": {},
   "outputs": [],
   "source": [
    "from typing import Union\n",
    "def get_fellow_id(id: Union[int, str]) -> str:\n",
    "    return f\"fellow ID: {id}\""
   ]
  },
  {
   "cell_type": "code",
   "execution_count": 166,
   "id": "2d68b09f",
   "metadata": {},
   "outputs": [
    {
     "name": "stdout",
     "output_type": "stream",
     "text": [
      "fellow ID: 42\n",
      "fellow ID: 42\n"
     ]
    }
   ],
   "source": [
    "print(get_fellow_id(42))\n",
    "print(get_fellow_id(\"42\"))\n"
   ]
  },
  {
   "cell_type": "code",
   "execution_count": 167,
   "id": "86a27a11",
   "metadata": {},
   "outputs": [
    {
     "name": "stdout",
     "output_type": "stream",
     "text": [
      "fellow ID: 42.0\n"
     ]
    }
   ],
   "source": [
    "# lets try giving it float\n",
    "\n",
    "print(get_fellow_id(42.0)) # 0ur IDE will flag it because it is not a string..."
   ]
  },
  {
   "cell_type": "markdown",
   "id": "9c764d60",
   "metadata": {},
   "source": [
    "if you like ... you can decide to chain two or more types\n",
    "`Union[int, float, str]`\n",
    "\n",
    "But you should keep it simple and not complicate matters."
   ]
  },
  {
   "cell_type": "code",
   "execution_count": 168,
   "id": "8760d97d",
   "metadata": {},
   "outputs": [],
   "source": [
    "# Instead of union you can use pipe \"|\" - hold shift + backslash to get it\n",
    "\n",
    "def get_fellow_id(id: int | str) -> str:\n",
    "    return f\"fellow ID: {id}\"\n",
    "\n",
    "# same as\n",
    "\n",
    "def get_fellow_id(id: Union[int, str]) -> str:\n",
    "    return f\"fellow ID: {id}\""
   ]
  },
  {
   "cell_type": "code",
   "execution_count": 169,
   "id": "8a1b52d6",
   "metadata": {},
   "outputs": [],
   "source": [
    "from typing import Union\n",
    "\n",
    "def format_address(house_number: Union[int, str], street: str) -> str:\n",
    "    return f\"{house_number} {street}\""
   ]
  },
  {
   "cell_type": "code",
   "execution_count": 170,
   "id": "5bbc6f65",
   "metadata": {},
   "outputs": [
    {
     "name": "stdout",
     "output_type": "stream",
     "text": [
      "23 Ajelogo Street\n",
      "23B Ajelogo Street\n"
     ]
    }
   ],
   "source": [
    "print(format_address(23, \"Ajelogo Street\"))   # 23 Ajelogo Street\n",
    "print(format_address(\"23B\", \"Ajelogo Street\")) # 23B Ajelogo Street"
   ]
  },
  {
   "cell_type": "markdown",
   "id": "bb7e4b50",
   "metadata": {},
   "source": [
    "**Optional**"
   ]
  },
  {
   "cell_type": "markdown",
   "id": "62e2a3c2",
   "metadata": {},
   "source": [
    "Sometimes you don’t just have “this or that”, \n",
    "you have “this or nothing”.\n",
    "\n",
    "This is  where `Optional` comes in."
   ]
  },
  {
   "cell_type": "markdown",
   "id": "3a7c72c2",
   "metadata": {},
   "source": [
    "Optional is just a shorthand for a very common Union case:\n",
    "\n",
    "```\n",
    "Optional[X]  ==  Union[X, None]\n",
    "\n",
    "```\n",
    "\n",
    "```\n",
    "optional[str] # This means the value can string or \"None\"(nothing)\n",
    "```\n"
   ]
  },
  {
   "cell_type": "markdown",
   "id": "30a90805",
   "metadata": {},
   "source": [
    "Now, in a real project, it is common to have parameters or fields that are not always provided.\n",
    "\n",
    "for example, \n",
    "- A user might have a middle name or might not\n",
    "- An API request might include a comment, or might leave it blank\n",
    "\n",
    "This is what oprional expresses\n"
   ]
  },
  {
   "cell_type": "code",
   "execution_count": 171,
   "id": "476fcccd",
   "metadata": {},
   "outputs": [],
   "source": [
    "from typing  import Optional\n",
    "\n",
    "def greet(first_name: str, last_name:Optional[str] = None)-> None:\n",
    "    if last_name:\n",
    "        print(f\"Hello {first_name} {last_name}\")\n",
    "    else:\n",
    "        print(f\"Hello {first_name}\")"
   ]
  },
  {
   "cell_type": "code",
   "execution_count": 172,
   "id": "cbae7760",
   "metadata": {},
   "outputs": [
    {
     "name": "stdout",
     "output_type": "stream",
     "text": [
      "Hello Toyeebat Arike\n",
      "Hello Toyeebat\n"
     ]
    }
   ],
   "source": [
    "greet(\"Toyeebat\", \"Arike\")   \n",
    "greet(\"Toyeebat\")          \n"
   ]
  },
  {
   "cell_type": "markdown",
   "id": "35efab7a",
   "metadata": {},
   "source": [
    "The last_name parameter can be a string or None.\n",
    "\n",
    "By default, we set it to None if the user doesn’t supply one."
   ]
  },
  {
   "cell_type": "code",
   "execution_count": 173,
   "id": "b9ef0e33",
   "metadata": {},
   "outputs": [],
   "source": [
    "def find_user(username: str) -> Optional[dict]:\n",
    "    if username == \"admin\":\n",
    "        return {\"username\": \"admin\", \"role\": \"superuser\"}\n",
    "    return None\n"
   ]
  },
  {
   "cell_type": "markdown",
   "id": "67cd521b",
   "metadata": {},
   "source": [
    "The function returns a dictionary if the user exists.\n",
    "\n",
    "If not, it returns None.\n",
    "\n",
    "That’s exactly what Optional describes."
   ]
  },
  {
   "cell_type": "code",
   "execution_count": 174,
   "id": "291dad10",
   "metadata": {},
   "outputs": [
    {
     "data": {
      "text/plain": [
       "{'username': 'admin', 'role': 'superuser'}"
      ]
     },
     "execution_count": 174,
     "metadata": {},
     "output_type": "execute_result"
    }
   ],
   "source": [
    "find_user(\"admin\")"
   ]
  },
  {
   "cell_type": "markdown",
   "id": "94f61660",
   "metadata": {},
   "source": [
    "**typed collections**\n",
    "\n",
    "- Starting with `dict` and `tuple`. These are quite important because wen we get to Pydantic models and FastAPI, we will use them to describe structured data."
   ]
  },
  {
   "cell_type": "markdown",
   "id": "88bf82cc",
   "metadata": {},
   "source": [
    "**`Dict` - typed dictionary**"
   ]
  },
  {
   "cell_type": "markdown",
   "id": "843b8fa4",
   "metadata": {},
   "source": [
    "`Dict[K,V]` describes a dictionary where\n",
    "- `k` - type of the keys\n",
    "- `V` - type of the values\n",
    "\n",
    "- This is takes the _**kwargs_ arguments"
   ]
  },
  {
   "cell_type": "code",
   "execution_count": 175,
   "id": "4c3be705",
   "metadata": {},
   "outputs": [],
   "source": [
    "from typing import Dict\n",
    "\n",
    "fellow_scores: Dict[str, int] = {\n",
    "    \"David\": 89,\n",
    "    \"Micheal\": 98\n",
    "}"
   ]
  },
  {
   "cell_type": "markdown",
   "id": "52931092",
   "metadata": {},
   "source": [
    "This means that every key is a string and every value is an integer.\n",
    "The IDE will flag it if you decide to add a string as a value\n"
   ]
  },
  {
   "cell_type": "markdown",
   "id": "b3df2eb9",
   "metadata": {},
   "source": [
    "**`Tuple` Typed Tuples**"
   ]
  },
  {
   "cell_type": "markdown",
   "id": "c09473d6",
   "metadata": {},
   "source": [
    "A tuple is like a small fixed-sized list, but we can define exactly what type each position shuld have."
   ]
  },
  {
   "cell_type": "code",
   "execution_count": 176,
   "id": "6be5aea9",
   "metadata": {},
   "outputs": [],
   "source": [
    "from typing import Tuple\n",
    "\n",
    "fellow: Tuple[str, int, str] = (\"Perpetual\",88,\"AI Engineering\")"
   ]
  },
  {
   "cell_type": "markdown",
   "id": "55e0bce8",
   "metadata": {},
   "source": [
    "This means that position 0 takes on string, 1 takes on int while 2 takes on strings also.And it will be flagged if interchanged."
   ]
  },
  {
   "cell_type": "code",
   "execution_count": 177,
   "id": "ddaa6952",
   "metadata": {},
   "outputs": [],
   "source": [
    "def ai_fellow(fellow: Tuple[str, int]) -> str:\n",
    "    name, score = fellow\n",
    "    return f\"{name} scored {score} in the last exam.\""
   ]
  },
  {
   "cell_type": "markdown",
   "id": "39bb49c6",
   "metadata": {},
   "source": [
    "**Pydantic**"
   ]
  },
  {
   "cell_type": "markdown",
   "id": "f9d4c650",
   "metadata": {},
   "source": [
    "Pydantic like typing is used to build a structured, type-safe data models. It uses these type hints to validate,serialize, parse and structure data automatically.\n",
    "\n",
    "In simple terms, It takes messy or untrusted data like API input, JSON or form data and checks that it matches your type definitions.\n",
    "\n",
    "Now if the data type doesnt match, pydantic raises an error with a clear explanation.\n"
   ]
  },
  {
   "cell_type": "markdown",
   "id": "ed18fbcc",
   "metadata": {},
   "source": [
    "**Using Pydantic**"
   ]
  },
  {
   "cell_type": "markdown",
   "id": "e69b123f",
   "metadata": {},
   "source": [
    "You can `pip install pydantic`but if you have already installed `fastapi` that means you have it already."
   ]
  },
  {
   "cell_type": "code",
   "execution_count": 178,
   "id": "5488d18f",
   "metadata": {},
   "outputs": [],
   "source": [
    "%%capture\n",
    "%pip install pydantic"
   ]
  },
  {
   "cell_type": "code",
   "execution_count": 179,
   "id": "d73f6730",
   "metadata": {},
   "outputs": [],
   "source": [
    "# importing pydantic\n",
    "from pydantic import BaseModel"
   ]
  },
  {
   "cell_type": "markdown",
   "id": "8e37f94b",
   "metadata": {},
   "source": [
    "`BaseModel` - This is the core class in pydantic that all our models inherit from(do you still remember inheritance?)\n",
    "\n",
    "- It gives your class the superpowers that makes pydantic useful. It handles core concept like;\n",
    "- data validation\n",
    "- autmatic type conversion\n",
    "- error reporting\n",
    "- serialization/ deserialization\n",
    "- schema generation - this one is heavilty used in FastAPI"
   ]
  },
  {
   "cell_type": "code",
   "execution_count": 180,
   "id": "85abe928",
   "metadata": {},
   "outputs": [],
   "source": [
    "# Lets create a pydantic data model\n",
    "\n",
    "class Fellow(BaseModel):\n",
    "    name: str\n",
    "    score: int\n",
    "    track: str"
   ]
  },
  {
   "cell_type": "markdown",
   "id": "a7715f4b",
   "metadata": {},
   "source": [
    "These data model knows\n",
    "- What fields it has (`name`,`score`,`track`)\n",
    "- What types those field should be (`str`,`int`,`str`)\n",
    "- how to check and clean input data\n",
    "- how to output itsself as clean, structured data(`dict`,`json`, etc)"
   ]
  },
  {
   "cell_type": "markdown",
   "id": "12474300",
   "metadata": {},
   "source": [
    "**What is `BaseModel` Capable of**"
   ]
  },
  {
   "cell_type": "code",
   "execution_count": null,
   "id": "e70ab0cf",
   "metadata": {},
   "outputs": [
    {
     "data": {
      "text/plain": [
       "Fellow(name='Perpetual', score=88, track='AI Engineering')"
      ]
     },
     "execution_count": 181,
     "metadata": {},
     "output_type": "execute_result"
    }
   ],
   "source": [
    "# 1. Validation - It automatically validates data passed to it\n",
    "\n",
    "Fellow(name=\"Perpetual\", score=88, track=\"AI Engineering\") # This will work fine"
   ]
  },
  {
   "cell_type": "code",
   "execution_count": 182,
   "id": "e87698f7",
   "metadata": {},
   "outputs": [
    {
     "ename": "ValidationError",
     "evalue": "1 validation error for Fellow\nscore\n  Input should be a valid integer, unable to parse string as an integer [type=int_parsing, input_value='eighty-seven', input_type=str]\n    For further information visit https://errors.pydantic.dev/2.11/v/int_parsing",
     "output_type": "error",
     "traceback": [
      "\u001b[1;31m---------------------------------------------------------------------------\u001b[0m",
      "\u001b[1;31mValidationError\u001b[0m                           Traceback (most recent call last)",
      "Cell \u001b[1;32mIn[182], line 1\u001b[0m\n\u001b[1;32m----> 1\u001b[0m \u001b[43mFellow\u001b[49m\u001b[43m(\u001b[49m\u001b[43mname\u001b[49m\u001b[38;5;241;43m=\u001b[39;49m\u001b[43m \u001b[49m\u001b[38;5;124;43m\"\u001b[39;49m\u001b[38;5;124;43mZach\u001b[39;49m\u001b[38;5;124;43m\"\u001b[39;49m\u001b[43m,\u001b[49m\u001b[43m \u001b[49m\u001b[43mscore\u001b[49m\u001b[43m \u001b[49m\u001b[38;5;241;43m=\u001b[39;49m\u001b[43m \u001b[49m\u001b[38;5;124;43m\"\u001b[39;49m\u001b[38;5;124;43meighty-seven\u001b[39;49m\u001b[38;5;124;43m\"\u001b[39;49m\u001b[43m,\u001b[49m\u001b[43m \u001b[49m\u001b[43mtrack\u001b[49m\u001b[38;5;241;43m=\u001b[39;49m\u001b[38;5;124;43m\"\u001b[39;49m\u001b[38;5;124;43mAI Engineering\u001b[39;49m\u001b[38;5;124;43m\"\u001b[39;49m\u001b[43m)\u001b[49m \u001b[38;5;66;03m# This will raise error\u001b[39;00m\n",
      "File \u001b[1;32m~\\AppData\\Local\\Packages\\PythonSoftwareFoundation.Python.3.10_qbz5n2kfra8p0\\LocalCache\\local-packages\\Python310\\site-packages\\pydantic\\main.py:253\u001b[0m, in \u001b[0;36mBaseModel.__init__\u001b[1;34m(self, **data)\u001b[0m\n\u001b[0;32m    251\u001b[0m \u001b[38;5;66;03m# `__tracebackhide__` tells pytest and some other tools to omit this function from tracebacks\u001b[39;00m\n\u001b[0;32m    252\u001b[0m __tracebackhide__ \u001b[38;5;241m=\u001b[39m \u001b[38;5;28;01mTrue\u001b[39;00m\n\u001b[1;32m--> 253\u001b[0m validated_self \u001b[38;5;241m=\u001b[39m \u001b[38;5;28;43mself\u001b[39;49m\u001b[38;5;241;43m.\u001b[39;49m\u001b[43m__pydantic_validator__\u001b[49m\u001b[38;5;241;43m.\u001b[39;49m\u001b[43mvalidate_python\u001b[49m\u001b[43m(\u001b[49m\u001b[43mdata\u001b[49m\u001b[43m,\u001b[49m\u001b[43m \u001b[49m\u001b[43mself_instance\u001b[49m\u001b[38;5;241;43m=\u001b[39;49m\u001b[38;5;28;43mself\u001b[39;49m\u001b[43m)\u001b[49m\n\u001b[0;32m    254\u001b[0m \u001b[38;5;28;01mif\u001b[39;00m \u001b[38;5;28mself\u001b[39m \u001b[38;5;129;01mis\u001b[39;00m \u001b[38;5;129;01mnot\u001b[39;00m validated_self:\n\u001b[0;32m    255\u001b[0m     warnings\u001b[38;5;241m.\u001b[39mwarn(\n\u001b[0;32m    256\u001b[0m         \u001b[38;5;124m'\u001b[39m\u001b[38;5;124mA custom validator is returning a value other than `self`.\u001b[39m\u001b[38;5;130;01m\\n\u001b[39;00m\u001b[38;5;124m'\u001b[39m\n\u001b[0;32m    257\u001b[0m         \u001b[38;5;124m\"\u001b[39m\u001b[38;5;124mReturning anything other than `self` from a top level model validator isn\u001b[39m\u001b[38;5;124m'\u001b[39m\u001b[38;5;124mt supported when validating via `__init__`.\u001b[39m\u001b[38;5;130;01m\\n\u001b[39;00m\u001b[38;5;124m\"\u001b[39m\n\u001b[0;32m    258\u001b[0m         \u001b[38;5;124m'\u001b[39m\u001b[38;5;124mSee the `model_validator` docs (https://docs.pydantic.dev/latest/concepts/validators/#model-validators) for more details.\u001b[39m\u001b[38;5;124m'\u001b[39m,\n\u001b[0;32m    259\u001b[0m         stacklevel\u001b[38;5;241m=\u001b[39m\u001b[38;5;241m2\u001b[39m,\n\u001b[0;32m    260\u001b[0m     )\n",
      "\u001b[1;31mValidationError\u001b[0m: 1 validation error for Fellow\nscore\n  Input should be a valid integer, unable to parse string as an integer [type=int_parsing, input_value='eighty-seven', input_type=str]\n    For further information visit https://errors.pydantic.dev/2.11/v/int_parsing"
     ]
    }
   ],
   "source": [
    "Fellow(name= \"Zach\", score = \"eighty-seven\", track=\"AI Engineering\") # This will raise error"
   ]
  },
  {
   "cell_type": "code",
   "execution_count": 183,
   "id": "60db134a",
   "metadata": {},
   "outputs": [
    {
     "name": "stdout",
     "output_type": "stream",
     "text": [
      "<class 'int'>\n"
     ]
    }
   ],
   "source": [
    "#2. parsing and type conversion - It automatically converts compatible types \n",
    "# It reads and interpret data\n",
    "\n",
    "p = Fellow(name = \"Perpetual\", score = \"88\", track = \"AI Engineering\")\n",
    "print(type(p.score))\n"
   ]
  },
  {
   "cell_type": "markdown",
   "id": "95b53df2",
   "metadata": {},
   "source": [
    "This is telling us that the compatible class is int and  not string as we have define above."
   ]
  },
  {
   "cell_type": "code",
   "execution_count": 184,
   "id": "747fa5f5",
   "metadata": {},
   "outputs": [
    {
     "name": "stdout",
     "output_type": "stream",
     "text": [
      "name='Blessing' score=100 track='AI Engineering '\n",
      "<class 'int'>\n"
     ]
    }
   ],
   "source": [
    "\n",
    "# an incoming data\n",
    "data= {\"name\":\"Blessing\", \"score\": \"100\", \"track\":\"AI Engineering \"}\n",
    "\n",
    "# pydantic will parse it like this\n",
    "fellow =Fellow(**data)\n",
    "\n",
    "print(fellow)\n",
    "print(type(fellow.score))\n"
   ]
  },
  {
   "cell_type": "markdown",
   "id": "646745e8",
   "metadata": {},
   "source": [
    "Here, Pydantic **parsed** \"100\" (a string) into 100 (an int).\n",
    "It “understood” the data and converted it into a proper Python model."
   ]
  },
  {
   "cell_type": "code",
   "execution_count": null,
   "id": "38e104a1",
   "metadata": {},
   "outputs": [
    {
     "name": "stdout",
     "output_type": "stream",
     "text": [
      "{\"name\":\"Perpetual\",\"score\":88,\"track\":\"AI Engineering\"}\n"
     ]
    },
    {
     "name": "stderr",
     "output_type": "stream",
     "text": [
      "C:\\Users\\THINKPAD\\AppData\\Local\\Temp\\ipykernel_15496\\448972283.py:3: PydanticDeprecatedSince20: The `json` method is deprecated; use `model_dump_json` instead. Deprecated in Pydantic V2.0 to be removed in V3.0. See Pydantic V2 Migration Guide at https://errors.pydantic.dev/2.11/migration/\n",
      "  print(p.json())\n"
     ]
    }
   ],
   "source": [
    "# 3. Serialization - It automatically converts data to JSON or dictionary(converts to a format that can be stored or sent)\n",
    "# Its more like packaging a data for output\n",
    "print(p.json())"
   ]
  },
  {
   "cell_type": "code",
   "execution_count": null,
   "id": "2d9d72f0",
   "metadata": {},
   "outputs": [
    {
     "name": "stdout",
     "output_type": "stream",
     "text": [
      "{'name': 'Perpetual', 'score': 88, 'track': 'AI Engineering'}\n"
     ]
    },
    {
     "name": "stderr",
     "output_type": "stream",
     "text": [
      "C:\\Users\\THINKPAD\\AppData\\Local\\Temp\\ipykernel_15496\\2898676942.py:1: PydanticDeprecatedSince20: The `dict` method is deprecated; use `model_dump` instead. Deprecated in Pydantic V2.0 to be removed in V3.0. See Pydantic V2 Migration Guide at https://errors.pydantic.dev/2.11/migration/\n",
      "  print(p.dict())\n"
     ]
    }
   ],
   "source": [
    "print(p.dict())"
   ]
  },
  {
   "cell_type": "code",
   "execution_count": 188,
   "id": "f23e9d1d",
   "metadata": {},
   "outputs": [],
   "source": [
    "# 4. Nesting  - Models can be nested to create complex data structures\n",
    "\n",
    "class Address(BaseModel):\n",
    "    street: str\n",
    "    city: str\n",
    "    state: str\n",
    "    country: str\n",
    "\n",
    "class Fellow(BaseModel):\n",
    "    name: str\n",
    "    score: int\n",
    "    track: str\n",
    "    address: Address\n",
    "    \n",
    "# Pydantic will validate this automatically"
   ]
  },
  {
   "cell_type": "markdown",
   "id": "dac81c4f",
   "metadata": {},
   "source": [
    "Here, Fellow contains an Address —\n",
    "so instead of just primitive types (str, int),\n",
    "you’re using another Pydantic model (Address) as a field type."
   ]
  },
  {
   "cell_type": "code",
   "execution_count": 189,
   "id": "12807771",
   "metadata": {},
   "outputs": [
    {
     "name": "stdout",
     "output_type": "stream",
     "text": [
      "name='Perpetual' score=88 track='AI Engineering' address=Address(street='Ajelogo Street', city='Ketu', state='Lagos', country='Nigeria')\n"
     ]
    }
   ],
   "source": [
    "# lets pass this data\n",
    "data = {\n",
    "    \"name\": \"Perpetual\",\n",
    "    \"score\": 88,\n",
    "    \"track\": \"AI Engineering\",\n",
    "    \n",
    "    \"address\": {\n",
    "        \"street\": \"Ajelogo Street\",\n",
    "        \"city\": \"Ketu\",\n",
    "        \"state\": \"Lagos\",\n",
    "        \"country\": \"Nigeria\"\n",
    "    }\n",
    "}\n",
    "\n",
    "# pydantic will parse it like this  \n",
    "fellow = Fellow(**data)\n",
    "\n",
    "print(fellow)"
   ]
  },
  {
   "cell_type": "markdown",
   "id": "eac4d880",
   "metadata": {},
   "source": [
    "**What is happening behind the scene**\n",
    "\n",
    "- Pydantic sees Fellow as a field address of type Address.\n",
    "\n",
    "- It looks at the dictionary under \"address\".\n",
    "\n",
    "- It automatically creates an Address object inside Fellow.\n",
    "\n",
    "- It validates that street, city, state and country are all strings.\n",
    "\n",
    "So, you get deep validation — Pydantic checks every layer of your data."
   ]
  },
  {
   "cell_type": "code",
   "execution_count": 190,
   "id": "9fcac345",
   "metadata": {},
   "outputs": [
    {
     "name": "stdout",
     "output_type": "stream",
     "text": [
      "Ajelogo Street\n"
     ]
    }
   ],
   "source": [
    "# you can easily access inner fields if you need to\n",
    "\n",
    "print(fellow.address.street)"
   ]
  },
  {
   "cell_type": "code",
   "execution_count": null,
   "id": "b8281a0f",
   "metadata": {},
   "outputs": [
    {
     "name": "stdout",
     "output_type": "stream",
     "text": [
      "{'name': 'Perpetual', 'score': 88, 'track': 'AI Engineering', 'address': {'street': 'Ajelogo Street', 'city': 'Ketu', 'state': 'Lagos', 'country': 'Nigeria'}}\n"
     ]
    },
    {
     "name": "stderr",
     "output_type": "stream",
     "text": [
      "C:\\Users\\THINKPAD\\AppData\\Local\\Temp\\ipykernel_15496\\956739212.py:1: PydanticDeprecatedSince20: The `dict` method is deprecated; use `model_dump` instead. Deprecated in Pydantic V2.0 to be removed in V3.0. See Pydantic V2 Migration Guide at https://errors.pydantic.dev/2.11/migration/\n",
      "  print(fellow.dict())\n"
     ]
    }
   ],
   "source": [
    "print(fellow.dict())"
   ]
  },
  {
   "cell_type": "code",
   "execution_count": null,
   "id": "e68544e8",
   "metadata": {},
   "outputs": [
    {
     "name": "stdout",
     "output_type": "stream",
     "text": [
      "{\"name\":\"Perpetual\",\"score\":88,\"track\":\"AI Engineering\",\"address\":{\"street\":\"Ajelogo Street\",\"city\":\"Ketu\",\"state\":\"Lagos\",\"country\":\"Nigeria\"}}\n"
     ]
    },
    {
     "name": "stderr",
     "output_type": "stream",
     "text": [
      "C:\\Users\\THINKPAD\\AppData\\Local\\Temp\\ipykernel_15496\\1809417232.py:1: PydanticDeprecatedSince20: The `json` method is deprecated; use `model_dump_json` instead. Deprecated in Pydantic V2.0 to be removed in V3.0. See Pydantic V2 Migration Guide at https://errors.pydantic.dev/2.11/migration/\n",
      "  print(fellow.json())\n"
     ]
    }
   ],
   "source": [
    "print(fellow.json())"
   ]
  },
  {
   "cell_type": "markdown",
   "id": "6e046d4f",
   "metadata": {},
   "source": [
    "**A list of Nested Models**"
   ]
  },
  {
   "cell_type": "markdown",
   "id": "68ea36d0",
   "metadata": {},
   "source": [
    "This makes sense, lets say you are using two addresses, yea?"
   ]
  },
  {
   "cell_type": "code",
   "execution_count": null,
   "id": "ed773454",
   "metadata": {},
   "outputs": [],
   "source": [
    "# So we can have something like this...for a list of address\n",
    "from typing import List\n",
    "from pydantic import BaseModel\n",
    "\n",
    "class Fellow(BaseModel):\n",
    "    name: str\n",
    "    score: int\n",
    "    track: str\n",
    "    addresses: List[Address]"
   ]
  },
  {
   "cell_type": "markdown",
   "id": "0f97f66e",
   "metadata": {},
   "source": [
    "Here, addresses isn’t just one Address —\n",
    "it’s a list (List[Address]), meaning the person can have multiple addresses."
   ]
  },
  {
   "cell_type": "code",
   "execution_count": null,
   "id": "6deb78e6",
   "metadata": {},
   "outputs": [
    {
     "name": "stdout",
     "output_type": "stream",
     "text": [
      "name='Perpetual' score=88 track='AI Engineering' addresses=[Address(street='Idoroko Road', city='Sango'), Address(street='Kobape', city='Abeokuta')]\n"
     ]
    }
   ],
   "source": [
    "data = {\n",
    "    \"name\": \"Perpetual\",\n",
    "    \"score\": 88,\n",
    "    \"track\": \"AI Engineering\",\n",
    "    \"addresses\": [\n",
    "        {\"street\": \"Idoroko Road\", \"city\": \"Sango\", \"state\": \"Ogun\",\n",
    "        \"country\": \"Nigeria\"},\n",
    "        {\"street\": \"Kobape\", \"city\": \"Abeokuta\", \"state\": \"Ogun\",\n",
    "        \"country\": \"Nigeria\"}\n",
    "    ]\n",
    "}\n",
    "\n",
    "fellow = Fellow(**data)\n",
    "print(fellow)\n"
   ]
  },
  {
   "cell_type": "code",
   "execution_count": null,
   "id": "1ef4a4ce",
   "metadata": {},
   "outputs": [
    {
     "name": "stdout",
     "output_type": "stream",
     "text": [
      "Sango\n",
      "Abeokuta\n"
     ]
    }
   ],
   "source": [
    "# Accessing the nested Items\n",
    "\n",
    "print(fellow.addresses[0].city)\n",
    "print(fellow.addresses[1].city)"
   ]
  },
  {
   "cell_type": "code",
   "execution_count": null,
   "id": "eb3362da",
   "metadata": {},
   "outputs": [
    {
     "name": "stdout",
     "output_type": "stream",
     "text": [
      "<bound method BaseModel.json of Fellow(name='Perpetual', score=88, track='AI Engineering', addresses=[Address(street='Idoroko Road', city='Sango'), Address(street='Kobape', city='Abeokuta')])>\n",
      "{\"name\":\"Perpetual\",\"score\":88,\"track\":\"AI Engineering\",\"addresses\":[{\"street\":\"Idoroko Road\",\"city\":\"Sango\"},{\"street\":\"Kobape\",\"city\":\"Abeokuta\"}]}\n",
      "\n",
      "\n",
      "{'name': 'Perpetual', 'score': 88, 'track': 'AI Engineering', 'addresses': [{'street': 'Idoroko Road', 'city': 'Sango'}, {'street': 'Kobape', 'city': 'Abeokuta'}]}\n",
      "{'name': 'Perpetual', 'score': 88, 'track': 'AI Engineering', 'addresses': [{'street': 'Idoroko Road', 'city': 'Sango'}, {'street': 'Kobape', 'city': 'Abeokuta'}]}\n"
     ]
    },
    {
     "name": "stderr",
     "output_type": "stream",
     "text": [
      "C:\\Users\\THINKPAD\\AppData\\Local\\Temp\\ipykernel_15496\\4109297026.py:6: PydanticDeprecatedSince20: The `dict` method is deprecated; use `model_dump` instead. Deprecated in Pydantic V2.0 to be removed in V3.0. See Pydantic V2 Migration Guide at https://errors.pydantic.dev/2.11/migration/\n",
      "  print(fellow.dict())\n"
     ]
    }
   ],
   "source": [
    "# we can serialize if we want to\n",
    "\n",
    "print(fellow.json) \n",
    "print(fellow.model_dump_json()) # use this instead\n",
    "print(\"\\n\")\n",
    "print(fellow.dict())\n",
    "print(fellow.model_dump()) # use this instead\n"
   ]
  },
  {
   "cell_type": "markdown",
   "id": "4b6f0ee8",
   "metadata": {},
   "source": [
    "**Understanding Validation**"
   ]
  },
  {
   "cell_type": "code",
   "execution_count": null,
   "id": "9b60b689",
   "metadata": {},
   "outputs": [
    {
     "name": "stdout",
     "output_type": "stream",
     "text": [
      "name='Micheal' score=-79 addresses=[Address(street='123 Marose St', city='Ikorodu'), Address(street='4 Babatunde Ave', city='Abioloa Way')]\n"
     ]
    }
   ],
   "source": [
    "from typing import List\n",
    "from pydantic import BaseModel\n",
    "\n",
    "class Address(BaseModel):\n",
    "    street: str\n",
    "    city: str\n",
    "\n",
    "class Fellow(BaseModel):\n",
    "    name: str\n",
    "    score: int\n",
    "    addresses: List[Address]\n",
    "\n",
    "data = {\n",
    "    \"name\": \"Micheal\",\n",
    "    \"score\": -79,\n",
    "    \"addresses\": [\n",
    "        {\"street\": \"123 Marose St\", \"city\": \"Ikorodu\"},\n",
    "        {\"street\": \"4 Babatunde Ave\", \"city\": \"Abioloa Way\"}\n",
    "    ]\n",
    "}\n",
    "\n",
    "fellow = Fellow(**data)\n",
    "print(fellow)"
   ]
  },
  {
   "cell_type": "markdown",
   "id": "1e6e4682",
   "metadata": {},
   "source": [
    "This works fine, but right now, any value for score is accepted,\n",
    "even something unrealistic like -79 score.\n",
    "\n",
    "Let’s fix that.\n",
    "we would do that by adding a `field level validation`"
   ]
  },
  {
   "cell_type": "markdown",
   "id": "f06748b1",
   "metadata": {},
   "source": [
    "Pydantic lets you add constraints directly to fields\n",
    "using the `Field` helper"
   ]
  },
  {
   "cell_type": "code",
   "execution_count": null,
   "id": "8e5d93f5",
   "metadata": {},
   "outputs": [],
   "source": [
    "from pydantic import BaseModel, Field\n",
    "from typing import List\n",
    "\n",
    "class Address(BaseModel):\n",
    "    street: str\n",
    "    city: str\n",
    "\n",
    "class Fellow(BaseModel):\n",
    "    name: str\n",
    "    score: int = Field(..., ge=0, le=100) # using the field\n",
    "    addresses: List[Address]\n"
   ]
  },
  {
   "cell_type": "markdown",
   "id": "cf471a6c",
   "metadata": {},
   "source": [
    "Here’s what that means:\n",
    "\n",
    "`ge=0` -greater than or equal to 0\n",
    "\n",
    "`le=100` -less than  or equal to 100\n",
    "\n",
    "The `...` means this field is required (it can’t be missing)"
   ]
  },
  {
   "cell_type": "code",
   "execution_count": null,
   "id": "f625b16c",
   "metadata": {},
   "outputs": [
    {
     "ename": "ValidationError",
     "evalue": "1 validation error for Fellow\nscore\n  Input should be greater than or equal to 0 [type=greater_than_equal, input_value=-40, input_type=int]\n    For further information visit https://errors.pydantic.dev/2.11/v/greater_than_equal",
     "output_type": "error",
     "traceback": [
      "\u001b[1;31m---------------------------------------------------------------------------\u001b[0m",
      "\u001b[1;31mValidationError\u001b[0m                           Traceback (most recent call last)",
      "Cell \u001b[1;32mIn[81], line 1\u001b[0m\n\u001b[1;32m----> 1\u001b[0m \u001b[43mFellow\u001b[49m\u001b[43m(\u001b[49m\u001b[43mname\u001b[49m\u001b[38;5;241;43m=\u001b[39;49m\u001b[38;5;124;43m\"\u001b[39;49m\u001b[38;5;124;43mHassan\u001b[39;49m\u001b[38;5;124;43m\"\u001b[39;49m\u001b[43m,\u001b[49m\u001b[43m \u001b[49m\u001b[43mscore\u001b[49m\u001b[38;5;241;43m=\u001b[39;49m\u001b[43m \u001b[49m\u001b[38;5;241;43m-\u001b[39;49m\u001b[38;5;241;43m40\u001b[39;49m\u001b[43m,\u001b[49m\u001b[43m \u001b[49m\u001b[43maddresses\u001b[49m\u001b[38;5;241;43m=\u001b[39;49m\u001b[43m[\u001b[49m\u001b[43m]\u001b[49m\u001b[43m)\u001b[49m\n",
      "File \u001b[1;32m~\\AppData\\Local\\Packages\\PythonSoftwareFoundation.Python.3.10_qbz5n2kfra8p0\\LocalCache\\local-packages\\Python310\\site-packages\\pydantic\\main.py:253\u001b[0m, in \u001b[0;36mBaseModel.__init__\u001b[1;34m(self, **data)\u001b[0m\n\u001b[0;32m    251\u001b[0m \u001b[38;5;66;03m# `__tracebackhide__` tells pytest and some other tools to omit this function from tracebacks\u001b[39;00m\n\u001b[0;32m    252\u001b[0m __tracebackhide__ \u001b[38;5;241m=\u001b[39m \u001b[38;5;28;01mTrue\u001b[39;00m\n\u001b[1;32m--> 253\u001b[0m validated_self \u001b[38;5;241m=\u001b[39m \u001b[38;5;28;43mself\u001b[39;49m\u001b[38;5;241;43m.\u001b[39;49m\u001b[43m__pydantic_validator__\u001b[49m\u001b[38;5;241;43m.\u001b[39;49m\u001b[43mvalidate_python\u001b[49m\u001b[43m(\u001b[49m\u001b[43mdata\u001b[49m\u001b[43m,\u001b[49m\u001b[43m \u001b[49m\u001b[43mself_instance\u001b[49m\u001b[38;5;241;43m=\u001b[39;49m\u001b[38;5;28;43mself\u001b[39;49m\u001b[43m)\u001b[49m\n\u001b[0;32m    254\u001b[0m \u001b[38;5;28;01mif\u001b[39;00m \u001b[38;5;28mself\u001b[39m \u001b[38;5;129;01mis\u001b[39;00m \u001b[38;5;129;01mnot\u001b[39;00m validated_self:\n\u001b[0;32m    255\u001b[0m     warnings\u001b[38;5;241m.\u001b[39mwarn(\n\u001b[0;32m    256\u001b[0m         \u001b[38;5;124m'\u001b[39m\u001b[38;5;124mA custom validator is returning a value other than `self`.\u001b[39m\u001b[38;5;130;01m\\n\u001b[39;00m\u001b[38;5;124m'\u001b[39m\n\u001b[0;32m    257\u001b[0m         \u001b[38;5;124m\"\u001b[39m\u001b[38;5;124mReturning anything other than `self` from a top level model validator isn\u001b[39m\u001b[38;5;124m'\u001b[39m\u001b[38;5;124mt supported when validating via `__init__`.\u001b[39m\u001b[38;5;130;01m\\n\u001b[39;00m\u001b[38;5;124m\"\u001b[39m\n\u001b[0;32m    258\u001b[0m         \u001b[38;5;124m'\u001b[39m\u001b[38;5;124mSee the `model_validator` docs (https://docs.pydantic.dev/latest/concepts/validators/#model-validators) for more details.\u001b[39m\u001b[38;5;124m'\u001b[39m,\n\u001b[0;32m    259\u001b[0m         stacklevel\u001b[38;5;241m=\u001b[39m\u001b[38;5;241m2\u001b[39m,\n\u001b[0;32m    260\u001b[0m     )\n",
      "\u001b[1;31mValidationError\u001b[0m: 1 validation error for Fellow\nscore\n  Input should be greater than or equal to 0 [type=greater_than_equal, input_value=-40, input_type=int]\n    For further information visit https://errors.pydantic.dev/2.11/v/greater_than_equal"
     ]
    }
   ],
   "source": [
    "Fellow(name=\"Hassan\", score= -40, addresses=[])\n"
   ]
  },
  {
   "cell_type": "markdown",
   "id": "d1e5b1d5",
   "metadata": {},
   "source": [
    "...Read the error message above"
   ]
  },
  {
   "cell_type": "code",
   "execution_count": null,
   "id": "2a75f9b0",
   "metadata": {},
   "outputs": [
    {
     "data": {
      "text/plain": [
       "Fellow(name='Hassan', score=80, addresses=[])"
      ]
     },
     "execution_count": 82,
     "metadata": {},
     "output_type": "execute_result"
    }
   ],
   "source": [
    "Fellow(name=\"Hassan\", score= 80, addresses=[])\n"
   ]
  },
  {
   "cell_type": "markdown",
   "id": "e0f0f7d6",
   "metadata": {},
   "source": [
    "This kind of validation\n",
    "\n",
    "- prevents bad data from ever entering your system,\n",
    "\n",
    "- gives clear feedback to API clients,\n",
    "\n",
    "- and works automatically inside FastAPI (no extra code needed in your routes)."
   ]
  },
  {
   "cell_type": "markdown",
   "id": "325228f0",
   "metadata": {},
   "source": [
    "**Custom Validation**"
   ]
  },
  {
   "cell_type": "markdown",
   "id": "0f7fa67a",
   "metadata": {},
   "source": [
    "You can also write custom validation logic using a `@validator` decorator."
   ]
  },
  {
   "cell_type": "code",
   "execution_count": null,
   "id": "141b47eb",
   "metadata": {},
   "outputs": [],
   "source": [
    "from pydantic import BaseModel, Field, field_validator\n",
    "\n",
    "class Person(BaseModel):\n",
    "    name: str\n",
    "    age: int = Field(..., ge=0)\n",
    "    \n",
    "    @field_validator(\"name\")\n",
    "    def name_must_start_with_capital(cls, v):\n",
    "        if not v[0].isupper():\n",
    "            raise ValueError(\"Name must start with a capital letter\")\n",
    "        return v\n"
   ]
  },
  {
   "cell_type": "code",
   "execution_count": null,
   "id": "34d2a48b",
   "metadata": {},
   "outputs": [
    {
     "ename": "ValidationError",
     "evalue": "1 validation error for Person\nname\n  Value error, Name must start with a capital letter [type=value_error, input_value='solomon', input_type=str]\n    For further information visit https://errors.pydantic.dev/2.11/v/value_error",
     "output_type": "error",
     "traceback": [
      "\u001b[1;31m---------------------------------------------------------------------------\u001b[0m",
      "\u001b[1;31mValidationError\u001b[0m                           Traceback (most recent call last)",
      "Cell \u001b[1;32mIn[87], line 1\u001b[0m\n\u001b[1;32m----> 1\u001b[0m \u001b[43mPerson\u001b[49m\u001b[43m(\u001b[49m\u001b[43mname\u001b[49m\u001b[38;5;241;43m=\u001b[39;49m\u001b[38;5;124;43m\"\u001b[39;49m\u001b[38;5;124;43msolomon\u001b[39;49m\u001b[38;5;124;43m\"\u001b[39;49m\u001b[43m,\u001b[49m\u001b[43m \u001b[49m\u001b[43mage\u001b[49m\u001b[38;5;241;43m=\u001b[39;49m\u001b[38;5;241;43m20\u001b[39;49m\u001b[43m)\u001b[49m\n",
      "File \u001b[1;32m~\\AppData\\Local\\Packages\\PythonSoftwareFoundation.Python.3.10_qbz5n2kfra8p0\\LocalCache\\local-packages\\Python310\\site-packages\\pydantic\\main.py:253\u001b[0m, in \u001b[0;36mBaseModel.__init__\u001b[1;34m(self, **data)\u001b[0m\n\u001b[0;32m    251\u001b[0m \u001b[38;5;66;03m# `__tracebackhide__` tells pytest and some other tools to omit this function from tracebacks\u001b[39;00m\n\u001b[0;32m    252\u001b[0m __tracebackhide__ \u001b[38;5;241m=\u001b[39m \u001b[38;5;28;01mTrue\u001b[39;00m\n\u001b[1;32m--> 253\u001b[0m validated_self \u001b[38;5;241m=\u001b[39m \u001b[38;5;28;43mself\u001b[39;49m\u001b[38;5;241;43m.\u001b[39;49m\u001b[43m__pydantic_validator__\u001b[49m\u001b[38;5;241;43m.\u001b[39;49m\u001b[43mvalidate_python\u001b[49m\u001b[43m(\u001b[49m\u001b[43mdata\u001b[49m\u001b[43m,\u001b[49m\u001b[43m \u001b[49m\u001b[43mself_instance\u001b[49m\u001b[38;5;241;43m=\u001b[39;49m\u001b[38;5;28;43mself\u001b[39;49m\u001b[43m)\u001b[49m\n\u001b[0;32m    254\u001b[0m \u001b[38;5;28;01mif\u001b[39;00m \u001b[38;5;28mself\u001b[39m \u001b[38;5;129;01mis\u001b[39;00m \u001b[38;5;129;01mnot\u001b[39;00m validated_self:\n\u001b[0;32m    255\u001b[0m     warnings\u001b[38;5;241m.\u001b[39mwarn(\n\u001b[0;32m    256\u001b[0m         \u001b[38;5;124m'\u001b[39m\u001b[38;5;124mA custom validator is returning a value other than `self`.\u001b[39m\u001b[38;5;130;01m\\n\u001b[39;00m\u001b[38;5;124m'\u001b[39m\n\u001b[0;32m    257\u001b[0m         \u001b[38;5;124m\"\u001b[39m\u001b[38;5;124mReturning anything other than `self` from a top level model validator isn\u001b[39m\u001b[38;5;124m'\u001b[39m\u001b[38;5;124mt supported when validating via `__init__`.\u001b[39m\u001b[38;5;130;01m\\n\u001b[39;00m\u001b[38;5;124m\"\u001b[39m\n\u001b[0;32m    258\u001b[0m         \u001b[38;5;124m'\u001b[39m\u001b[38;5;124mSee the `model_validator` docs (https://docs.pydantic.dev/latest/concepts/validators/#model-validators) for more details.\u001b[39m\u001b[38;5;124m'\u001b[39m,\n\u001b[0;32m    259\u001b[0m         stacklevel\u001b[38;5;241m=\u001b[39m\u001b[38;5;241m2\u001b[39m,\n\u001b[0;32m    260\u001b[0m     )\n",
      "\u001b[1;31mValidationError\u001b[0m: 1 validation error for Person\nname\n  Value error, Name must start with a capital letter [type=value_error, input_value='solomon', input_type=str]\n    For further information visit https://errors.pydantic.dev/2.11/v/value_error"
     ]
    }
   ],
   "source": [
    "Person(name=\"solomon\", age=20)\n"
   ]
  },
  {
   "cell_type": "markdown",
   "id": "de934035",
   "metadata": {},
   "source": [
    "...Read the error message above"
   ]
  },
  {
   "cell_type": "markdown",
   "id": "b0544d8b",
   "metadata": {},
   "source": [
    "This is the essence of Pydantic validation, `field constraints + custom validators.`"
   ]
  },
  {
   "cell_type": "code",
   "execution_count": null,
   "id": "36182213",
   "metadata": {},
   "outputs": [
    {
     "data": {
      "text/plain": [
       "Person(name='Solomon', age=20)"
      ]
     },
     "execution_count": 89,
     "metadata": {},
     "output_type": "execute_result"
    }
   ],
   "source": [
    "Person(name=\"Solomon\", age=20)"
   ]
  },
  {
   "cell_type": "markdown",
   "id": "0dab8d4c",
   "metadata": {},
   "source": [
    "These types handle both validation and conversion — if the input is compatible, Pydantic converts it automatically"
   ]
  },
  {
   "cell_type": "markdown",
   "id": "8cc76b04",
   "metadata": {},
   "source": [
    "| Type                         | Description                               | Example                   |\n",
    "| ---------------------------- | ----------------------------------------- | ------------------------- |\n",
    "| `EmailStr`                   | Validates email address                   | `email: EmailStr`         |\n",
    "| `AnyUrl`, `HttpUrl`          | Validates URLs                            | `website: HttpUrl`        |\n",
    "| `IPv4Address`, `IPv6Address` | Validates IP addresses                    | `ip: IPv4Address`         |\n",
    "| `PaymentCardNumber`          | Validates credit card numbers             | `card: PaymentCardNumber` |\n",
    "| `UUID`                       | Validates UUIDs                           | `id: UUID`                |\n",
    "| `Decimal`                    | For exact decimal values (money, scores)  | `price: Decimal`          |\n",
    "| `FilePath`, `DirectoryPath`  | Validates existing file or directory path | `file_path: FilePath`     |\n"
   ]
  },
  {
   "cell_type": "markdown",
   "id": "2a3233e8",
   "metadata": {},
   "source": [
    "`Field()` allows you to apply numeric or string constraints to your fields."
   ]
  },
  {
   "cell_type": "markdown",
   "id": "3af858fe",
   "metadata": {},
   "source": [
    "| Constraint    | Meaning                  | Example                                        |\n",
    "| ------------- | ------------------------ | ---------------------------------------------- |\n",
    "| `gt`          | greater than             | `age: int = Field(..., gt=0)`                  |\n",
    "| `ge`          | greater than or equal to | `score: int = Field(..., ge=0)`                |\n",
    "| `lt`          | less than                | `age: int = Field(..., lt=120)`                |\n",
    "| `le`          | less than or equal to    | `height: float = Field(..., le=2.5)`           |\n",
    "| `multiple_of` | must be a multiple of    | `even_number: int = Field(..., multiple_of=2)` |\n"
   ]
  },
  {
   "cell_type": "markdown",
   "id": "64ee4ee0",
   "metadata": {},
   "source": [
    "...these are string constraints...they also work with `Fields`"
   ]
  },
  {
   "cell_type": "markdown",
   "id": "88c349e7",
   "metadata": {},
   "source": [
    "| Constraint   | Meaning            | Example                                      |\n",
    "| ------------ | ------------------ | -------------------------------------------- |\n",
    "| `min_length` | minimum characters | `name: str = Field(..., min_length=2)`       |\n",
    "| `max_length` | maximum characters | `password: str = Field(..., max_length=20)`  |\n",
    "| `regex`      | must match pattern | `phone: str = Field(..., pattern=r'^\\d{11}$')` |\n"
   ]
  },
  {
   "cell_type": "markdown",
   "id": "6f8e7d8e",
   "metadata": {},
   "source": [
    "more constraints"
   ]
  },
  {
   "cell_type": "markdown",
   "id": "5f8c24fa",
   "metadata": {},
   "source": [
    "| Type / Field                    | Description                                | Example                                                                               |\n",
    "| ------------------------------- | ------------------------------------------ | ------------------------------------------------------------------------------------- |\n",
    "| `int` + `Field()`               | Constrained integer (e.g. positive, range) | `age: int = Field(..., gt=0, lt=120)`                                                 |\n",
    "| `str` + `Field()`               | Constrained string (length, regex, etc.)   | `username: str = Field(..., min_length=3, max_length=12, pattern=r\"^[A-Za-z0-9_]+$\")` |\n",
    "| `list` + `Field()`              | Constrained list (size limits)             | `scores: list[int] = Field(..., min_length=3, max_length=5)`                          |\n",
    "| `Decimal` + `Field()`           | Constrained decimal (precision, limits)    | `price: Decimal = Field(..., gt=0, max_digits=6, decimal_places=2)`                   |\n",
    "| `float` + `Field()`             | Constrained float (min, max, multiple)     | `rating: float = Field(..., ge=0, le=5, multiple_of=0.5)`                             |\n",
    "| `bool` + `Field()`              | Boolean with default or description        | `is_active: bool = Field(default=True, description=\"User is active\")`                 |\n",
    "| `date` / `datetime` + `Field()` | Date/time validation                       | `created_at: datetime = Field(default_factory=datetime.now)`                       |\n"
   ]
  },
  {
   "cell_type": "code",
   "execution_count": null,
   "id": "d920f87b",
   "metadata": {},
   "outputs": [],
   "source": [
    "from datetime import datetime\n",
    "from decimal import Decimal\n",
    "from pydantic import BaseModel, Field, ValidationError\n",
    "from typing import List\n",
    "\n",
    "# Lets create the model here\n",
    "\n",
    "class ProductReview(BaseModel):\n",
    "    \n",
    "    review_id: int = Field(..., gt=0, lt=10000)\n",
    "    username: str = Field(..., min_length=3, max_length=12, pattern=r\"^[A-Za-z0-9_]+$\")\n",
    "    scores: List[int] = Field(..., min_length=3, max_length=5)\n",
    "    price: Decimal = Field(..., gt=0, max_digits=6, decimal_places=2)\n",
    "    rating: float = Field(..., ge=0, le=5, multiple_of=0.5)\n",
    "    is_active: bool = Field(default=True)\n",
    "    created_at: datetime = Field(default_factory=datetime.now)"
   ]
  },
  {
   "cell_type": "code",
   "execution_count": 192,
   "id": "dbe1e1ec",
   "metadata": {},
   "outputs": [],
   "source": [
    "# lets demo for each\n",
    "\n",
    "def demo_int_field():\n",
    "    print(\"Integer Field Validation\")\n",
    "    try:\n",
    "        ProductReview(review_id= -2, username=\"shabi\", scores=[4, 5, 4], price=Decimal(\"10.00\"), rating=4.5)\n",
    "    except ValidationError as e:\n",
    "        print(e)"
   ]
  },
  {
   "cell_type": "code",
   "execution_count": null,
   "id": "2997e231",
   "metadata": {},
   "outputs": [
    {
     "name": "stdout",
     "output_type": "stream",
     "text": [
      "Integer Field Validation\n",
      "1 validation error for ProductReview\n",
      "review_id\n",
      "  Input should be greater than 0 [type=greater_than, input_value=-2, input_type=int]\n",
      "    For further information visit https://errors.pydantic.dev/2.11/v/greater_than\n"
     ]
    }
   ],
   "source": [
    "demo_int_field()"
   ]
  },
  {
   "cell_type": "code",
   "execution_count": 195,
   "id": "f332f132",
   "metadata": {},
   "outputs": [],
   "source": [
    "def demo_str_field():\n",
    "    print(\"String Field Validation\")\n",
    "    try:\n",
    "        ProductReview(review_id=1, username=\"A$\", scores=[4, 5, 5], price=Decimal(\"20.00\"), rating=4.0)\n",
    "    except ValidationError as e:\n",
    "        print(e)"
   ]
  },
  {
   "cell_type": "code",
   "execution_count": 196,
   "id": "e7c3c1dd",
   "metadata": {},
   "outputs": [
    {
     "name": "stdout",
     "output_type": "stream",
     "text": [
      "String Field Validation\n",
      "1 validation error for ProductReview\n",
      "username\n",
      "  String should have at least 3 characters [type=string_too_short, input_value='A$', input_type=str]\n",
      "    For further information visit https://errors.pydantic.dev/2.11/v/string_too_short\n"
     ]
    }
   ],
   "source": [
    "demo_str_field()"
   ]
  },
  {
   "cell_type": "code",
   "execution_count": 197,
   "id": "8a0a60f0",
   "metadata": {},
   "outputs": [],
   "source": [
    "def demo_list_field():\n",
    "    print(\"\\n List Field Validation\")\n",
    "    try:\n",
    "        ProductReview(review_id=2, username=\"ChrisDev\", scores=[5], price=Decimal(\"30.00\"), rating=3.5)\n",
    "    except ValidationError as e:\n",
    "        print(e)"
   ]
  },
  {
   "cell_type": "code",
   "execution_count": 198,
   "id": "0ad27a25",
   "metadata": {},
   "outputs": [
    {
     "name": "stdout",
     "output_type": "stream",
     "text": [
      "\n",
      " List Field Validation\n",
      "1 validation error for ProductReview\n",
      "scores\n",
      "  List should have at least 3 items after validation, not 1 [type=too_short, input_value=[5], input_type=list]\n",
      "    For further information visit https://errors.pydantic.dev/2.11/v/too_short\n"
     ]
    }
   ],
   "source": [
    "demo_list_field()"
   ]
  },
  {
   "cell_type": "code",
   "execution_count": 199,
   "id": "49b7892c",
   "metadata": {},
   "outputs": [],
   "source": [
    "def demo_decimal_field():\n",
    "    print(\"\\n Decimal Field Validation\")\n",
    "    try:\n",
    "        ProductReview(review_id=3, username=\"Tester\", scores=[4, 4, 5], price=Decimal(\"-10.00\"), rating=4.5)\n",
    "    except ValidationError as e:\n",
    "        print(e)"
   ]
  },
  {
   "cell_type": "code",
   "execution_count": 200,
   "id": "ec2937c3",
   "metadata": {},
   "outputs": [
    {
     "name": "stdout",
     "output_type": "stream",
     "text": [
      "\n",
      " Decimal Field Validation\n",
      "1 validation error for ProductReview\n",
      "price\n",
      "  Input should be greater than 0 [type=greater_than, input_value=Decimal('-10.00'), input_type=Decimal]\n",
      "    For further information visit https://errors.pydantic.dev/2.11/v/greater_than\n"
     ]
    }
   ],
   "source": [
    "demo_decimal_field()"
   ]
  },
  {
   "cell_type": "code",
   "execution_count": 201,
   "id": "ae847ce2",
   "metadata": {},
   "outputs": [],
   "source": [
    "def demo_float_field():\n",
    "    print(\"\\n Float Field Validation\")\n",
    "    try:\n",
    "        ProductReview(review_id=4, username=\"SmartDev\", scores=[5, 4, 4], price=Decimal(\"99.99\"), rating=4.3)\n",
    "    except ValidationError as e:\n",
    "        print(e)"
   ]
  },
  {
   "cell_type": "code",
   "execution_count": 203,
   "id": "66a79746",
   "metadata": {},
   "outputs": [
    {
     "name": "stdout",
     "output_type": "stream",
     "text": [
      "\n",
      " Float Field Validation\n",
      "1 validation error for ProductReview\n",
      "rating\n",
      "  Input should be a multiple of 0.5 [type=multiple_of, input_value=4.3, input_type=float]\n",
      "    For further information visit https://errors.pydantic.dev/2.11/v/multiple_of\n"
     ]
    }
   ],
   "source": [
    "demo_float_field()"
   ]
  },
  {
   "cell_type": "code",
   "execution_count": 204,
   "id": "4c50ef5f",
   "metadata": {},
   "outputs": [],
   "source": [
    "def demo_bool_field():\n",
    "    print(\"\\n Boolean Field Default\")\n",
    "    product = ProductReview(\n",
    "        review_id=5,\n",
    "        username=\"JaneDoe\",\n",
    "        scores=[5, 4, 5],\n",
    "        price=Decimal(\"59.99\"),\n",
    "        rating=5.0\n",
    "    )\n",
    "    print(\"is_active =\", product.is_active)"
   ]
  },
  {
   "cell_type": "code",
   "execution_count": 205,
   "id": "2473b0a7",
   "metadata": {},
   "outputs": [
    {
     "name": "stdout",
     "output_type": "stream",
     "text": [
      "\n",
      " Boolean Field Default\n",
      "is_active = True\n"
     ]
    }
   ],
   "source": [
    "demo_bool_field()"
   ]
  },
  {
   "cell_type": "code",
   "execution_count": 206,
   "id": "d0b635d9",
   "metadata": {},
   "outputs": [],
   "source": [
    "def demo_datetime_field():\n",
    "    print(\"\\n Datetime Default Factory\")\n",
    "    product = ProductReview(\n",
    "        review_id=6,\n",
    "        username=\"TimeUser\",\n",
    "        scores=[3, 4, 5],\n",
    "        price=Decimal(\"25.00\"),\n",
    "        rating=4.5\n",
    "    )\n",
    "    print(\"created_at =\", product.created_at)"
   ]
  },
  {
   "cell_type": "code",
   "execution_count": 207,
   "id": "4f4aee60",
   "metadata": {},
   "outputs": [
    {
     "name": "stdout",
     "output_type": "stream",
     "text": [
      "\n",
      " Datetime Default Factory\n",
      "created_at = 2025-10-15 14:02:46.044683\n"
     ]
    }
   ],
   "source": [
    "demo_datetime_field()"
   ]
  },
  {
   "cell_type": "markdown",
   "id": "e157da57",
   "metadata": {},
   "source": [
    "**Enums and Literals**"
   ]
  },
  {
   "cell_type": "markdown",
   "id": "6496df4f",
   "metadata": {},
   "source": [
    "These restrict values to fixed options.\n",
    "\n",
    "- `Enum`: Use Enum when your allowed values are still fixed, but you might want more control\n",
    "\n",
    "- `Literal`: Literal is used when you want a small, fixed set of allowed string (or number) values — but you don’t need any extra logic or behavior."
   ]
  },
  {
   "cell_type": "code",
   "execution_count": null,
   "id": "29af7958",
   "metadata": {},
   "outputs": [
    {
     "name": "stdout",
     "output_type": "stream",
     "text": [
      "Gender.male\n"
     ]
    }
   ],
   "source": [
    "from typing import Literal\n",
    "from enum import Enum\n",
    "\n",
    "\n",
    "class Gender(str, Enum):\n",
    "    male = \"male\"\n",
    "    female = \"female\"\n",
    "\n",
    "gender = Gender\n",
    "print(gender.male)"
   ]
  },
  {
   "cell_type": "code",
   "execution_count": null,
   "id": "c71d0adf",
   "metadata": {},
   "outputs": [
    {
     "name": "stdout",
     "output_type": "stream",
     "text": [
      "Gender.female\n"
     ]
    }
   ],
   "source": [
    "\n",
    "class Person(BaseModel):\n",
    "    gender: Literal[\"male\", \"female\"]\n",
    "\n",
    "print(gender.female)"
   ]
  },
  {
   "cell_type": "markdown",
   "id": "c5de96bd",
   "metadata": {},
   "source": [
    "**`field_validator`**"
   ]
  },
  {
   "cell_type": "markdown",
   "id": "ce95c5da",
   "metadata": {},
   "source": [
    "With this we can create our own logic"
   ]
  },
  {
   "cell_type": "code",
   "execution_count": null,
   "id": "2dafe29e",
   "metadata": {},
   "outputs": [],
   "source": [
    "from pydantic import BaseModel, field_validator\n",
    "\n",
    "\n",
    "class Product(BaseModel):\n",
    "    name: str\n",
    "    price: float\n",
    "\n",
    "    @field_validator(\"price\")\n",
    "    def check_price(cls, v):\n",
    "        if v <= 0:\n",
    "            raise ValueError(\"Price must be positive\")\n",
    "        return v"
   ]
  },
  {
   "cell_type": "markdown",
   "id": "696e4d82",
   "metadata": {},
   "source": [
    "Where You See `cls` -class and `v` - value\n",
    "\n",
    "You will see them inside validators — special methods in a Pydantic model that let you customize or extend validation logic."
   ]
  },
  {
   "cell_type": "markdown",
   "id": "49e0f39b",
   "metadata": {},
   "source": [
    "`cls` is automatically passed when you define a class method. It refers to the model class itself, not an instance.\n",
    "\n",
    "In the example above cls refers to the `Product` class.\n",
    "\n",
    "You could use cls if you needed to access class-level attributes or methods. You will often see it there even if it’s not used — just because the validator must accept it."
   ]
  },
  {
   "cell_type": "markdown",
   "id": "d63c370d",
   "metadata": {},
   "source": [
    "`v` is the value of the field being validated.\n",
    "Pydantic passes it automatically when calling the validator. You can inspect or modify it before it’s stored. `v` will be whatever the user provided for the field price."
   ]
  },
  {
   "cell_type": "code",
   "execution_count": null,
   "id": "bd67c47f",
   "metadata": {},
   "outputs": [],
   "source": [
    "from pydantic import BaseModel, Field\n",
    "\n",
    "class Numbers(BaseModel):\n",
    "    values: list[int] = Field(..., min_length=3, max_length=5)\n"
   ]
  },
  {
   "cell_type": "markdown",
   "id": "63343402",
   "metadata": {},
   "source": [
    "`values: list[int]` - says this must be a list of integers\n",
    "\n",
    "`Field(..., min_length=3, max_length=5)` -sets constraints on list length\n",
    "\n",
    "`...` means the field is required\n",
    "\n",
    "`min_length=3` - at least 3 numbers\n",
    "\n",
    "`max_length=5` - at most 5 numbers"
   ]
  },
  {
   "cell_type": "code",
   "execution_count": null,
   "id": "eada5b14",
   "metadata": {},
   "outputs": [
    {
     "name": "stdout",
     "output_type": "stream",
     "text": [
      "values=[1, 2, 3]\n"
     ]
    },
    {
     "ename": "ValidationError",
     "evalue": "1 validation error for Numbers\nvalues\n  List should have at least 3 items after validation, not 2 [type=too_short, input_value=[1, 2], input_type=list]\n    For further information visit https://errors.pydantic.dev/2.11/v/too_short",
     "output_type": "error",
     "traceback": [
      "\u001b[1;31m---------------------------------------------------------------------------\u001b[0m",
      "\u001b[1;31mValidationError\u001b[0m                           Traceback (most recent call last)",
      "Cell \u001b[1;32mIn[119], line 2\u001b[0m\n\u001b[0;32m      1\u001b[0m \u001b[38;5;28mprint\u001b[39m(Numbers(values\u001b[38;5;241m=\u001b[39m[\u001b[38;5;241m1\u001b[39m, \u001b[38;5;241m2\u001b[39m, \u001b[38;5;241m3\u001b[39m]))        \u001b[38;5;66;03m#  valid\u001b[39;00m\n\u001b[1;32m----> 2\u001b[0m \u001b[38;5;28mprint\u001b[39m(\u001b[43mNumbers\u001b[49m\u001b[43m(\u001b[49m\u001b[43mvalues\u001b[49m\u001b[38;5;241;43m=\u001b[39;49m\u001b[43m[\u001b[49m\u001b[38;5;241;43m1\u001b[39;49m\u001b[43m,\u001b[49m\u001b[43m \u001b[49m\u001b[38;5;241;43m2\u001b[39;49m\u001b[43m]\u001b[49m\u001b[43m)\u001b[49m)           \u001b[38;5;66;03m#  ValueError: List should have at least 3 items\u001b[39;00m\n\u001b[0;32m      3\u001b[0m \u001b[38;5;28mprint\u001b[39m(Numbers(values\u001b[38;5;241m=\u001b[39m[\u001b[38;5;241m1\u001b[39m, \u001b[38;5;241m2\u001b[39m, \u001b[38;5;241m3\u001b[39m, \u001b[38;5;241m4\u001b[39m, \u001b[38;5;241m5\u001b[39m, \u001b[38;5;241m6\u001b[39m]))  \u001b[38;5;66;03m#  ValueError: List should have at most 5 items\u001b[39;00m\n",
      "File \u001b[1;32m~\\AppData\\Local\\Packages\\PythonSoftwareFoundation.Python.3.10_qbz5n2kfra8p0\\LocalCache\\local-packages\\Python310\\site-packages\\pydantic\\main.py:253\u001b[0m, in \u001b[0;36mBaseModel.__init__\u001b[1;34m(self, **data)\u001b[0m\n\u001b[0;32m    251\u001b[0m \u001b[38;5;66;03m# `__tracebackhide__` tells pytest and some other tools to omit this function from tracebacks\u001b[39;00m\n\u001b[0;32m    252\u001b[0m __tracebackhide__ \u001b[38;5;241m=\u001b[39m \u001b[38;5;28;01mTrue\u001b[39;00m\n\u001b[1;32m--> 253\u001b[0m validated_self \u001b[38;5;241m=\u001b[39m \u001b[38;5;28;43mself\u001b[39;49m\u001b[38;5;241;43m.\u001b[39;49m\u001b[43m__pydantic_validator__\u001b[49m\u001b[38;5;241;43m.\u001b[39;49m\u001b[43mvalidate_python\u001b[49m\u001b[43m(\u001b[49m\u001b[43mdata\u001b[49m\u001b[43m,\u001b[49m\u001b[43m \u001b[49m\u001b[43mself_instance\u001b[49m\u001b[38;5;241;43m=\u001b[39;49m\u001b[38;5;28;43mself\u001b[39;49m\u001b[43m)\u001b[49m\n\u001b[0;32m    254\u001b[0m \u001b[38;5;28;01mif\u001b[39;00m \u001b[38;5;28mself\u001b[39m \u001b[38;5;129;01mis\u001b[39;00m \u001b[38;5;129;01mnot\u001b[39;00m validated_self:\n\u001b[0;32m    255\u001b[0m     warnings\u001b[38;5;241m.\u001b[39mwarn(\n\u001b[0;32m    256\u001b[0m         \u001b[38;5;124m'\u001b[39m\u001b[38;5;124mA custom validator is returning a value other than `self`.\u001b[39m\u001b[38;5;130;01m\\n\u001b[39;00m\u001b[38;5;124m'\u001b[39m\n\u001b[0;32m    257\u001b[0m         \u001b[38;5;124m\"\u001b[39m\u001b[38;5;124mReturning anything other than `self` from a top level model validator isn\u001b[39m\u001b[38;5;124m'\u001b[39m\u001b[38;5;124mt supported when validating via `__init__`.\u001b[39m\u001b[38;5;130;01m\\n\u001b[39;00m\u001b[38;5;124m\"\u001b[39m\n\u001b[0;32m    258\u001b[0m         \u001b[38;5;124m'\u001b[39m\u001b[38;5;124mSee the `model_validator` docs (https://docs.pydantic.dev/latest/concepts/validators/#model-validators) for more details.\u001b[39m\u001b[38;5;124m'\u001b[39m,\n\u001b[0;32m    259\u001b[0m         stacklevel\u001b[38;5;241m=\u001b[39m\u001b[38;5;241m2\u001b[39m,\n\u001b[0;32m    260\u001b[0m     )\n",
      "\u001b[1;31mValidationError\u001b[0m: 1 validation error for Numbers\nvalues\n  List should have at least 3 items after validation, not 2 [type=too_short, input_value=[1, 2], input_type=list]\n    For further information visit https://errors.pydantic.dev/2.11/v/too_short"
     ]
    }
   ],
   "source": [
    "print(Numbers(values=[1, 2, 3]))        #  valid\n",
    "print(Numbers(values=[1, 2]))           #  ValueError: List should have at least 3 items\n",
    "print(Numbers(values=[1, 2, 3, 4, 5, 6]))  #  ValueError: List should have at most 5 items\n"
   ]
  },
  {
   "cell_type": "markdown",
   "id": "add05b41",
   "metadata": {},
   "source": [
    "...Read the error message"
   ]
  },
  {
   "cell_type": "markdown",
   "id": "d17c33fd",
   "metadata": {},
   "source": [
    "more example..."
   ]
  },
  {
   "cell_type": "code",
   "execution_count": null,
   "id": "4dcd48c6",
   "metadata": {},
   "outputs": [],
   "source": [
    "from decimal import Decimal\n",
    "from pydantic import BaseModel, Field\n",
    "\n",
    "class Product(BaseModel):\n",
    "    name: str = Field(..., min_length=3, max_length=20)\n",
    "    quantity: int = Field(..., gt=0, lt=100)   # greater than 0, less than 100\n",
    "    prices: list[float] = Field(..., min_length=2, max_length=5)\n",
    "    cost: Decimal = Field(..., gt=0, max_digits=6, decimal_places=2)\n"
   ]
  },
  {
   "cell_type": "code",
   "execution_count": null,
   "id": "977d9227",
   "metadata": {},
   "outputs": [
    {
     "data": {
      "text/plain": [
       "Product(name='Laptop', quantity=10, prices=[1200.5, 1300.75], cost=Decimal('1500.00'))"
      ]
     },
     "execution_count": 121,
     "metadata": {},
     "output_type": "execute_result"
    }
   ],
   "source": [
    "Product(\n",
    "    name=\"Laptop\",\n",
    "    quantity=10,\n",
    "    prices=[1200.5, 1300.75],\n",
    "    cost=Decimal(\"1500.00\")\n",
    ")\n"
   ]
  },
  {
   "cell_type": "markdown",
   "id": "2939a27e",
   "metadata": {},
   "source": [
    "Try to change the values and rerun the code above"
   ]
  },
  {
   "cell_type": "code",
   "execution_count": null,
   "id": "5aaf3a69",
   "metadata": {},
   "outputs": [],
   "source": [
    "from typing import Optional, List\n",
    "from pydantic import BaseModel, EmailStr, Field\n",
    "from enum import Enum\n",
    "\n",
    "class Gender(str, Enum):\n",
    "    male = \"male\"\n",
    "    female = \"female\"\n",
    "\n",
    "class User(BaseModel):\n",
    "    id: int = Field(..., gt=0)\n",
    "    name: str = Field(..., min_length=2, max_length=50)\n",
    "    age: int = Field(..., ge=0, le=120)\n",
    "    email: EmailStr\n",
    "    gender: Gender\n",
    "    skills: List[str] = Field(default_factory=list)\n",
    "    phone: Optional[str] = Field(None, pattern=r'^\\d{11}$')\n"
   ]
  },
  {
   "cell_type": "code",
   "execution_count": null,
   "id": "06f764e2",
   "metadata": {},
   "outputs": [
    {
     "name": "stdout",
     "output_type": "stream",
     "text": [
      "id=1 name='Kudoro Esther' age=16 email='esther@aiengineering.ncc.ng' gender=<Gender.female: 'female'> skills=['Python', 'Machine Learning'] phone='08123456789'\n"
     ]
    }
   ],
   "source": [
    "user_data = {\n",
    "    \"id\": 1,\n",
    "    \"name\": \"Kudoro Esther\",\n",
    "    \"age\": 16,\n",
    "    \"email\": \"esther@aiengineering.ncc.ng\",\n",
    "    \"gender\": \"female\",\n",
    "    \"skills\": [\"Python\", \"Machine Learning\"],\n",
    "    \"phone\": \"08123456789\"\n",
    "}\n",
    "\n",
    "user = User(**user_data)\n",
    "print(user)\n"
   ]
  },
  {
   "cell_type": "markdown",
   "id": "dce683e3",
   "metadata": {},
   "source": [
    "Try varying your data to what was not defined in the constraint and rerun the code"
   ]
  },
  {
   "cell_type": "code",
   "execution_count": null,
   "id": "f630d510",
   "metadata": {},
   "outputs": [
    {
     "name": "stdout",
     "output_type": "stream",
     "text": [
      "{\"id\":1,\"name\":\"Kudoro Esther\",\"age\":16,\"email\":\"esther@aiengineering.ncc.ng\",\"gender\":\"female\",\"skills\":[\"Python\",\"Machine Learning\"],\"phone\":\"08123456789\"}\n",
      "{'id': 1, 'name': 'Kudoro Esther', 'age': 16, 'email': 'esther@aiengineering.ncc.ng', 'gender': <Gender.female: 'female'>, 'skills': ['Python', 'Machine Learning'], 'phone': '08123456789'}\n"
     ]
    }
   ],
   "source": [
    "# Lets serialize\n",
    "\n",
    "\n",
    "print(user.model_dump_json())\n",
    "\n",
    "print(user.model_dump())"
   ]
  }
 ],
 "metadata": {
  "kernelspec": {
   "display_name": "Python 3",
   "language": "python",
   "name": "python3"
  },
  "language_info": {
   "codemirror_mode": {
    "name": "ipython",
    "version": 3
   },
   "file_extension": ".py",
   "mimetype": "text/x-python",
   "name": "python",
   "nbconvert_exporter": "python",
   "pygments_lexer": "ipython3",
   "version": "3.10.11"
  }
 },
 "nbformat": 4,
 "nbformat_minor": 5
}
